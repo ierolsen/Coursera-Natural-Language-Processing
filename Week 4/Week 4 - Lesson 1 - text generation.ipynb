{
 "cells": [
  {
   "cell_type": "code",
   "execution_count": 1,
   "metadata": {
    "colab": {
     "base_uri": "https://localhost:8080/",
     "height": 34
    },
    "colab_type": "code",
    "id": "E8SuLFIE76zI",
    "outputId": "46ddb374-0cc7-448d-e2ca-13e56c9ff39d"
   },
   "outputs": [
    {
     "name": "stdout",
     "output_type": "stream",
     "text": [
      "1.14.0\n"
     ]
    }
   ],
   "source": [
    "import tensorflow as tf\n",
    "print(tf.__version__)"
   ]
  },
  {
   "cell_type": "code",
   "execution_count": 0,
   "metadata": {
    "colab": {},
    "colab_type": "code",
    "id": "NzkjqLdv8CcF"
   },
   "outputs": [],
   "source": [
    "from tensorflow.keras.preprocessing.sequence import pad_sequences\n",
    "from tensorflow.keras.layers import Embedding, LSTM, Dense, Bidirectional\n",
    "from tensorflow.keras.preprocessing.text import Tokenizer\n",
    "from tensorflow.keras.models import Sequential\n",
    "from tensorflow.keras.optimizers import Adam\n",
    "\n",
    "import numpy as np"
   ]
  },
  {
   "cell_type": "code",
   "execution_count": 0,
   "metadata": {
    "colab": {},
    "colab_type": "code",
    "id": "AAbjIeB59JXI"
   },
   "outputs": [],
   "source": [
    "data=\"In the town of Athy one Jeremy Lanigan \\n Battered away til he hadnt a pound. \\nHis father died and made him a man again \\n Left him a farm and ten acres of ground. \\nHe gave a grand party for friends and relations \\nWho didnt forget him when come to the wall, \\nAnd if youll but listen Ill make your eyes glisten \\nOf the rows and the ructions of Lanigans Ball. \\nMyself to be sure got free invitation, \\nFor all the nice girls and boys I might ask, \\nAnd just in a minute both friends and relations \\nWere dancing round merry as bees round a cask. \\nJudy ODaly, that nice little milliner, \\nShe tipped me a wink for to give her a call, \\nAnd I soon arrived with Peggy McGilligan \\nJust in time for Lanigans Ball. \\nThere were lashings of punch and wine for the ladies, \\nPotatoes and cakes; there was bacon and tea, \\nThere were the Nolans, Dolans, OGradys \\nCourting the girls and dancing away. \\nSongs they went round as plenty as water, \\nThe harp that once sounded in Taras old hall,\\nSweet Nelly Gray and The Rat Catchers Daughter,\\nAll singing together at Lanigans Ball. \\nThey were doing all kinds of nonsensical polkas \\nAll round the room in a whirligig. \\nJulia and I, we banished their nonsense \\nAnd tipped them the twist of a reel and a jig. \\nAch mavrone, how the girls got all mad at me \\nDanced til youd think the ceiling would fall. \\nFor I spent three weeks at Brooks Academy \\nLearning new steps for Lanigans Ball. \\nThree long weeks I spent up in Dublin, \\nThree long weeks to learn nothing at all,\\n Three long weeks I spent up in Dublin, \\nLearning new steps for Lanigans Ball. \\nShe stepped out and I stepped in again, \\nI stepped out and she stepped in again, \\nShe stepped out and I stepped in again, \\nLearning new steps for Lanigans Ball. \\nBoys were all merry and the girls they were hearty \\nAnd danced all around in couples and groups, \\nTil an accident happened, young Terrance McCarthy \\nPut his right leg through miss Finnertys hoops. \\nPoor creature fainted and cried Meelia murther, \\nCalled for her brothers and gathered them all. \\nCarmody swore that hed go no further \\nTil he had satisfaction at Lanigans Ball. \\nIn the midst of the row miss Kerrigan fainted, \\nHer cheeks at the same time as red as a rose. \\nSome of the lads declared she was painted, \\nShe took a small drop too much, I suppose. \\nHer sweetheart, Ned Morgan, so powerful and able, \\nWhen he saw his fair colleen stretched out by the wall, \\nTore the left leg from under the table \\nAnd smashed all the Chaneys at Lanigans Ball. \\nBoys, oh boys, twas then there were runctions. \\nMyself got a lick from big Phelim McHugh. \\nI soon replied to his introduction \\nAnd kicked up a terrible hullabaloo. \\nOld Casey, the piper, was near being strangled. \\nThey squeezed up his pipes, bellows, chanters and all. \\nThe girls, in their ribbons, they got all entangled \\nAnd that put an end to Lanigans Ball.\""
   ]
  },
  {
   "cell_type": "code",
   "execution_count": 0,
   "metadata": {
    "colab": {},
    "colab_type": "code",
    "id": "OaEuZttP9Pse"
   },
   "outputs": [],
   "source": [
    "corpus = data.lower().split(\"\\n\")"
   ]
  },
  {
   "cell_type": "code",
   "execution_count": 5,
   "metadata": {
    "colab": {
     "base_uri": "https://localhost:8080/",
     "height": 70
    },
    "colab_type": "code",
    "id": "aEV3q-xm9W9j",
    "outputId": "67465173-bfc5-45f9-809c-c07e657b324c"
   },
   "outputs": [
    {
     "name": "stdout",
     "output_type": "stream",
     "text": [
      "{'and': 1, 'the': 2, 'a': 3, 'in': 4, 'all': 5, 'i': 6, 'for': 7, 'of': 8, 'lanigans': 9, 'ball': 10, 'were': 11, 'at': 12, 'to': 13, 'she': 14, 'stepped': 15, 'his': 16, 'girls': 17, 'as': 18, 'they': 19, 'til': 20, 'he': 21, 'again': 22, 'got': 23, 'boys': 24, 'round': 25, 'that': 26, 'her': 27, 'there': 28, 'three': 29, 'weeks': 30, 'up': 31, 'out': 32, 'him': 33, 'was': 34, 'spent': 35, 'learning': 36, 'new': 37, 'steps': 38, 'long': 39, 'away': 40, 'left': 41, 'friends': 42, 'relations': 43, 'when': 44, 'wall': 45, 'myself': 46, 'nice': 47, 'just': 48, 'dancing': 49, 'merry': 50, 'tipped': 51, 'me': 52, 'soon': 53, 'time': 54, 'old': 55, 'their': 56, 'them': 57, 'danced': 58, 'dublin': 59, 'an': 60, 'put': 61, 'leg': 62, 'miss': 63, 'fainted': 64, 'from': 65, 'town': 66, 'athy': 67, 'one': 68, 'jeremy': 69, 'lanigan': 70, 'battered': 71, 'hadnt': 72, 'pound': 73, 'father': 74, 'died': 75, 'made': 76, 'man': 77, 'farm': 78, 'ten': 79, 'acres': 80, 'ground': 81, 'gave': 82, 'grand': 83, 'party': 84, 'who': 85, 'didnt': 86, 'forget': 87, 'come': 88, 'if': 89, 'youll': 90, 'but': 91, 'listen': 92, 'ill': 93, 'make': 94, 'your': 95, 'eyes': 96, 'glisten': 97, 'rows': 98, 'ructions': 99, 'be': 100, 'sure': 101, 'free': 102, 'invitation': 103, 'might': 104, 'ask': 105, 'minute': 106, 'both': 107, 'bees': 108, 'cask': 109, 'judy': 110, 'odaly': 111, 'little': 112, 'milliner': 113, 'wink': 114, 'give': 115, 'call': 116, 'arrived': 117, 'with': 118, 'peggy': 119, 'mcgilligan': 120, 'lashings': 121, 'punch': 122, 'wine': 123, 'ladies': 124, 'potatoes': 125, 'cakes': 126, 'bacon': 127, 'tea': 128, 'nolans': 129, 'dolans': 130, 'ogradys': 131, 'courting': 132, 'songs': 133, 'went': 134, 'plenty': 135, 'water': 136, 'harp': 137, 'once': 138, 'sounded': 139, 'taras': 140, 'hall': 141, 'sweet': 142, 'nelly': 143, 'gray': 144, 'rat': 145, 'catchers': 146, 'daughter': 147, 'singing': 148, 'together': 149, 'doing': 150, 'kinds': 151, 'nonsensical': 152, 'polkas': 153, 'room': 154, 'whirligig': 155, 'julia': 156, 'we': 157, 'banished': 158, 'nonsense': 159, 'twist': 160, 'reel': 161, 'jig': 162, 'ach': 163, 'mavrone': 164, 'how': 165, 'mad': 166, 'youd': 167, 'think': 168, 'ceiling': 169, 'would': 170, 'fall': 171, 'brooks': 172, 'academy': 173, 'learn': 174, 'nothing': 175, 'hearty': 176, 'around': 177, 'couples': 178, 'groups': 179, 'accident': 180, 'happened': 181, 'young': 182, 'terrance': 183, 'mccarthy': 184, 'right': 185, 'through': 186, 'finnertys': 187, 'hoops': 188, 'poor': 189, 'creature': 190, 'cried': 191, 'meelia': 192, 'murther': 193, 'called': 194, 'brothers': 195, 'gathered': 196, 'carmody': 197, 'swore': 198, 'hed': 199, 'go': 200, 'no': 201, 'further': 202, 'had': 203, 'satisfaction': 204, 'midst': 205, 'row': 206, 'kerrigan': 207, 'cheeks': 208, 'same': 209, 'red': 210, 'rose': 211, 'some': 212, 'lads': 213, 'declared': 214, 'painted': 215, 'took': 216, 'small': 217, 'drop': 218, 'too': 219, 'much': 220, 'suppose': 221, 'sweetheart': 222, 'ned': 223, 'morgan': 224, 'so': 225, 'powerful': 226, 'able': 227, 'saw': 228, 'fair': 229, 'colleen': 230, 'stretched': 231, 'by': 232, 'tore': 233, 'under': 234, 'table': 235, 'smashed': 236, 'chaneys': 237, 'oh': 238, 'twas': 239, 'then': 240, 'runctions': 241, 'lick': 242, 'big': 243, 'phelim': 244, 'mchugh': 245, 'replied': 246, 'introduction': 247, 'kicked': 248, 'terrible': 249, 'hullabaloo': 250, 'casey': 251, 'piper': 252, 'near': 253, 'being': 254, 'strangled': 255, 'squeezed': 256, 'pipes': 257, 'bellows': 258, 'chanters': 259, 'ribbons': 260, 'entangled': 261, 'end': 262}\n",
      "263\n"
     ]
    }
   ],
   "source": [
    "tokenizer = Tokenizer()\n",
    "\n",
    "tokenizer.fit_on_texts(corpus)\n",
    "total_words = len(tokenizer.word_index) + 1\n",
    "\n",
    "print(tokenizer.word_index)\n",
    "print(total_words)"
   ]
  },
  {
   "cell_type": "code",
   "execution_count": 0,
   "metadata": {
    "colab": {},
    "colab_type": "code",
    "id": "Wq04jgu_9bOt"
   },
   "outputs": [],
   "source": [
    "input_sequences = []\n",
    "\n",
    "for line in corpus:\n",
    "\ttoken_list = tokenizer.texts_to_sequences([line])[0]\n",
    "  \n",
    "\tfor i in range(1, len(token_list)):\n",
    "\t\tn_gram_sequence = token_list[:i+1]\n",
    "\t\tinput_sequences.append(n_gram_sequence)"
   ]
  },
  {
   "cell_type": "code",
   "execution_count": 0,
   "metadata": {
    "colab": {},
    "colab_type": "code",
    "id": "P4tsV0ri9m0V"
   },
   "outputs": [],
   "source": [
    "# pad sequences \n",
    "max_sequence_len = max([len(x) for x in input_sequences])\n",
    "input_sequences = np.array(pad_sequences(input_sequences, maxlen=max_sequence_len, padding='pre'))"
   ]
  },
  {
   "cell_type": "code",
   "execution_count": 0,
   "metadata": {
    "colab": {},
    "colab_type": "code",
    "id": "sdkV5vxA9pOr"
   },
   "outputs": [],
   "source": [
    "# create predictors and label\n",
    "xs, labels = input_sequences[:,:-1],input_sequences[:,-1]\n",
    "\n",
    "ys = tf.keras.utils.to_categorical(labels, num_classes=total_words)"
   ]
  },
  {
   "cell_type": "code",
   "execution_count": 9,
   "metadata": {
    "colab": {
     "base_uri": "https://localhost:8080/",
     "height": 151
    },
    "colab_type": "code",
    "id": "ccLDakPN9rID",
    "outputId": "fe874b53-e8b7-44e5-d9fd-7533c115a33c"
   },
   "outputs": [
    {
     "name": "stdout",
     "output_type": "stream",
     "text": [
      "4\n",
      "2\n",
      "66\n",
      "8\n",
      "67\n",
      "68\n",
      "69\n",
      "70\n"
     ]
    }
   ],
   "source": [
    "print(tokenizer.word_index['in'])\n",
    "print(tokenizer.word_index['the'])\n",
    "print(tokenizer.word_index['town'])\n",
    "print(tokenizer.word_index['of'])\n",
    "print(tokenizer.word_index['athy'])\n",
    "print(tokenizer.word_index['one'])\n",
    "print(tokenizer.word_index['jeremy'])\n",
    "print(tokenizer.word_index['lanigan'])"
   ]
  },
  {
   "cell_type": "code",
   "execution_count": 10,
   "metadata": {
    "colab": {
     "base_uri": "https://localhost:8080/",
     "height": 34
    },
    "colab_type": "code",
    "id": "-naz4TGv9s2o",
    "outputId": "682c5f4c-5a59-41de-d34e-b6bafee2a78b"
   },
   "outputs": [
    {
     "name": "stdout",
     "output_type": "stream",
     "text": [
      "[ 0  0  0  4  2 66  8 67 68 69]\n"
     ]
    }
   ],
   "source": [
    "print(xs[6])"
   ]
  },
  {
   "cell_type": "code",
   "execution_count": 11,
   "metadata": {
    "colab": {
     "base_uri": "https://localhost:8080/",
     "height": 202
    },
    "colab_type": "code",
    "id": "N79nJUcv9wAi",
    "outputId": "a93cd89e-eba0-4304-f01f-732833250c9f"
   },
   "outputs": [
    {
     "name": "stdout",
     "output_type": "stream",
     "text": [
      "[0. 0. 0. 0. 0. 0. 0. 0. 0. 0. 0. 0. 0. 0. 0. 0. 0. 0. 0. 0. 0. 0. 0. 0.\n",
      " 0. 0. 0. 0. 0. 0. 0. 0. 0. 0. 0. 0. 0. 0. 0. 0. 0. 0. 0. 0. 0. 0. 0. 0.\n",
      " 0. 0. 0. 0. 0. 0. 0. 0. 0. 0. 0. 0. 0. 0. 0. 0. 0. 0. 0. 0. 0. 0. 1. 0.\n",
      " 0. 0. 0. 0. 0. 0. 0. 0. 0. 0. 0. 0. 0. 0. 0. 0. 0. 0. 0. 0. 0. 0. 0. 0.\n",
      " 0. 0. 0. 0. 0. 0. 0. 0. 0. 0. 0. 0. 0. 0. 0. 0. 0. 0. 0. 0. 0. 0. 0. 0.\n",
      " 0. 0. 0. 0. 0. 0. 0. 0. 0. 0. 0. 0. 0. 0. 0. 0. 0. 0. 0. 0. 0. 0. 0. 0.\n",
      " 0. 0. 0. 0. 0. 0. 0. 0. 0. 0. 0. 0. 0. 0. 0. 0. 0. 0. 0. 0. 0. 0. 0. 0.\n",
      " 0. 0. 0. 0. 0. 0. 0. 0. 0. 0. 0. 0. 0. 0. 0. 0. 0. 0. 0. 0. 0. 0. 0. 0.\n",
      " 0. 0. 0. 0. 0. 0. 0. 0. 0. 0. 0. 0. 0. 0. 0. 0. 0. 0. 0. 0. 0. 0. 0. 0.\n",
      " 0. 0. 0. 0. 0. 0. 0. 0. 0. 0. 0. 0. 0. 0. 0. 0. 0. 0. 0. 0. 0. 0. 0. 0.\n",
      " 0. 0. 0. 0. 0. 0. 0. 0. 0. 0. 0. 0. 0. 0. 0. 0. 0. 0. 0. 0. 0. 0. 0.]\n"
     ]
    }
   ],
   "source": [
    "print(ys[6])"
   ]
  },
  {
   "cell_type": "code",
   "execution_count": 12,
   "metadata": {
    "colab": {
     "base_uri": "https://localhost:8080/",
     "height": 218
    },
    "colab_type": "code",
    "id": "ABgXnGfQ9wip",
    "outputId": "73e99782-ed84-464d-e1a4-475068f60a75"
   },
   "outputs": [
    {
     "name": "stdout",
     "output_type": "stream",
     "text": [
      "[ 0  0  0  0  4  2 66  8 67 68]\n",
      "[0. 0. 0. 0. 0. 0. 0. 0. 0. 0. 0. 0. 0. 0. 0. 0. 0. 0. 0. 0. 0. 0. 0. 0.\n",
      " 0. 0. 0. 0. 0. 0. 0. 0. 0. 0. 0. 0. 0. 0. 0. 0. 0. 0. 0. 0. 0. 0. 0. 0.\n",
      " 0. 0. 0. 0. 0. 0. 0. 0. 0. 0. 0. 0. 0. 0. 0. 0. 0. 0. 0. 0. 0. 1. 0. 0.\n",
      " 0. 0. 0. 0. 0. 0. 0. 0. 0. 0. 0. 0. 0. 0. 0. 0. 0. 0. 0. 0. 0. 0. 0. 0.\n",
      " 0. 0. 0. 0. 0. 0. 0. 0. 0. 0. 0. 0. 0. 0. 0. 0. 0. 0. 0. 0. 0. 0. 0. 0.\n",
      " 0. 0. 0. 0. 0. 0. 0. 0. 0. 0. 0. 0. 0. 0. 0. 0. 0. 0. 0. 0. 0. 0. 0. 0.\n",
      " 0. 0. 0. 0. 0. 0. 0. 0. 0. 0. 0. 0. 0. 0. 0. 0. 0. 0. 0. 0. 0. 0. 0. 0.\n",
      " 0. 0. 0. 0. 0. 0. 0. 0. 0. 0. 0. 0. 0. 0. 0. 0. 0. 0. 0. 0. 0. 0. 0. 0.\n",
      " 0. 0. 0. 0. 0. 0. 0. 0. 0. 0. 0. 0. 0. 0. 0. 0. 0. 0. 0. 0. 0. 0. 0. 0.\n",
      " 0. 0. 0. 0. 0. 0. 0. 0. 0. 0. 0. 0. 0. 0. 0. 0. 0. 0. 0. 0. 0. 0. 0. 0.\n",
      " 0. 0. 0. 0. 0. 0. 0. 0. 0. 0. 0. 0. 0. 0. 0. 0. 0. 0. 0. 0. 0. 0. 0.]\n"
     ]
    }
   ],
   "source": [
    "print(xs[5])\n",
    "print(ys[5])"
   ]
  },
  {
   "cell_type": "code",
   "execution_count": 13,
   "metadata": {
    "colab": {
     "base_uri": "https://localhost:8080/",
     "height": 54
    },
    "colab_type": "code",
    "id": "atdhqFxz9yuL",
    "outputId": "0e8e5408-fda6-48f3-f097-6ec497175a3e"
   },
   "outputs": [
    {
     "name": "stdout",
     "output_type": "stream",
     "text": [
      "{'and': 1, 'the': 2, 'a': 3, 'in': 4, 'all': 5, 'i': 6, 'for': 7, 'of': 8, 'lanigans': 9, 'ball': 10, 'were': 11, 'at': 12, 'to': 13, 'she': 14, 'stepped': 15, 'his': 16, 'girls': 17, 'as': 18, 'they': 19, 'til': 20, 'he': 21, 'again': 22, 'got': 23, 'boys': 24, 'round': 25, 'that': 26, 'her': 27, 'there': 28, 'three': 29, 'weeks': 30, 'up': 31, 'out': 32, 'him': 33, 'was': 34, 'spent': 35, 'learning': 36, 'new': 37, 'steps': 38, 'long': 39, 'away': 40, 'left': 41, 'friends': 42, 'relations': 43, 'when': 44, 'wall': 45, 'myself': 46, 'nice': 47, 'just': 48, 'dancing': 49, 'merry': 50, 'tipped': 51, 'me': 52, 'soon': 53, 'time': 54, 'old': 55, 'their': 56, 'them': 57, 'danced': 58, 'dublin': 59, 'an': 60, 'put': 61, 'leg': 62, 'miss': 63, 'fainted': 64, 'from': 65, 'town': 66, 'athy': 67, 'one': 68, 'jeremy': 69, 'lanigan': 70, 'battered': 71, 'hadnt': 72, 'pound': 73, 'father': 74, 'died': 75, 'made': 76, 'man': 77, 'farm': 78, 'ten': 79, 'acres': 80, 'ground': 81, 'gave': 82, 'grand': 83, 'party': 84, 'who': 85, 'didnt': 86, 'forget': 87, 'come': 88, 'if': 89, 'youll': 90, 'but': 91, 'listen': 92, 'ill': 93, 'make': 94, 'your': 95, 'eyes': 96, 'glisten': 97, 'rows': 98, 'ructions': 99, 'be': 100, 'sure': 101, 'free': 102, 'invitation': 103, 'might': 104, 'ask': 105, 'minute': 106, 'both': 107, 'bees': 108, 'cask': 109, 'judy': 110, 'odaly': 111, 'little': 112, 'milliner': 113, 'wink': 114, 'give': 115, 'call': 116, 'arrived': 117, 'with': 118, 'peggy': 119, 'mcgilligan': 120, 'lashings': 121, 'punch': 122, 'wine': 123, 'ladies': 124, 'potatoes': 125, 'cakes': 126, 'bacon': 127, 'tea': 128, 'nolans': 129, 'dolans': 130, 'ogradys': 131, 'courting': 132, 'songs': 133, 'went': 134, 'plenty': 135, 'water': 136, 'harp': 137, 'once': 138, 'sounded': 139, 'taras': 140, 'hall': 141, 'sweet': 142, 'nelly': 143, 'gray': 144, 'rat': 145, 'catchers': 146, 'daughter': 147, 'singing': 148, 'together': 149, 'doing': 150, 'kinds': 151, 'nonsensical': 152, 'polkas': 153, 'room': 154, 'whirligig': 155, 'julia': 156, 'we': 157, 'banished': 158, 'nonsense': 159, 'twist': 160, 'reel': 161, 'jig': 162, 'ach': 163, 'mavrone': 164, 'how': 165, 'mad': 166, 'youd': 167, 'think': 168, 'ceiling': 169, 'would': 170, 'fall': 171, 'brooks': 172, 'academy': 173, 'learn': 174, 'nothing': 175, 'hearty': 176, 'around': 177, 'couples': 178, 'groups': 179, 'accident': 180, 'happened': 181, 'young': 182, 'terrance': 183, 'mccarthy': 184, 'right': 185, 'through': 186, 'finnertys': 187, 'hoops': 188, 'poor': 189, 'creature': 190, 'cried': 191, 'meelia': 192, 'murther': 193, 'called': 194, 'brothers': 195, 'gathered': 196, 'carmody': 197, 'swore': 198, 'hed': 199, 'go': 200, 'no': 201, 'further': 202, 'had': 203, 'satisfaction': 204, 'midst': 205, 'row': 206, 'kerrigan': 207, 'cheeks': 208, 'same': 209, 'red': 210, 'rose': 211, 'some': 212, 'lads': 213, 'declared': 214, 'painted': 215, 'took': 216, 'small': 217, 'drop': 218, 'too': 219, 'much': 220, 'suppose': 221, 'sweetheart': 222, 'ned': 223, 'morgan': 224, 'so': 225, 'powerful': 226, 'able': 227, 'saw': 228, 'fair': 229, 'colleen': 230, 'stretched': 231, 'by': 232, 'tore': 233, 'under': 234, 'table': 235, 'smashed': 236, 'chaneys': 237, 'oh': 238, 'twas': 239, 'then': 240, 'runctions': 241, 'lick': 242, 'big': 243, 'phelim': 244, 'mchugh': 245, 'replied': 246, 'introduction': 247, 'kicked': 248, 'terrible': 249, 'hullabaloo': 250, 'casey': 251, 'piper': 252, 'near': 253, 'being': 254, 'strangled': 255, 'squeezed': 256, 'pipes': 257, 'bellows': 258, 'chanters': 259, 'ribbons': 260, 'entangled': 261, 'end': 262}\n"
     ]
    }
   ],
   "source": [
    "print(tokenizer.word_index)"
   ]
  },
  {
   "cell_type": "code",
   "execution_count": 14,
   "metadata": {
    "colab": {
     "base_uri": "https://localhost:8080/",
     "height": 306
    },
    "colab_type": "code",
    "id": "8dUCOGOD9378",
    "outputId": "fdd23fec-4346-4bdc-86ca-767051c6d0bf"
   },
   "outputs": [
    {
     "name": "stderr",
     "output_type": "stream",
     "text": [
      "WARNING: Logging before flag parsing goes to stderr.\n",
      "W0818 18:48:46.841064 140567814440832 deprecation.py:506] From /usr/local/lib/python3.6/dist-packages/tensorflow/python/keras/initializers.py:119: calling RandomUniform.__init__ (from tensorflow.python.ops.init_ops) with dtype is deprecated and will be removed in a future version.\n",
      "Instructions for updating:\n",
      "Call initializer instance with the dtype argument instead of passing it to the constructor\n",
      "W0818 18:48:46.867272 140567814440832 deprecation.py:506] From /usr/local/lib/python3.6/dist-packages/tensorflow/python/ops/init_ops.py:1251: calling VarianceScaling.__init__ (from tensorflow.python.ops.init_ops) with dtype is deprecated and will be removed in a future version.\n",
      "Instructions for updating:\n",
      "Call initializer instance with the dtype argument instead of passing it to the constructor\n",
      "W0818 18:48:46.872733 140567814440832 deprecation.py:506] From /usr/local/lib/python3.6/dist-packages/tensorflow/python/ops/init_ops.py:97: calling GlorotUniform.__init__ (from tensorflow.python.ops.init_ops) with dtype is deprecated and will be removed in a future version.\n",
      "Instructions for updating:\n",
      "Call initializer instance with the dtype argument instead of passing it to the constructor\n",
      "W0818 18:48:46.874038 140567814440832 deprecation.py:506] From /usr/local/lib/python3.6/dist-packages/tensorflow/python/ops/init_ops.py:97: calling Orthogonal.__init__ (from tensorflow.python.ops.init_ops) with dtype is deprecated and will be removed in a future version.\n",
      "Instructions for updating:\n",
      "Call initializer instance with the dtype argument instead of passing it to the constructor\n",
      "W0818 18:48:46.878128 140567814440832 deprecation.py:506] From /usr/local/lib/python3.6/dist-packages/tensorflow/python/ops/init_ops.py:97: calling Zeros.__init__ (from tensorflow.python.ops.init_ops) with dtype is deprecated and will be removed in a future version.\n",
      "Instructions for updating:\n",
      "Call initializer instance with the dtype argument instead of passing it to the constructor\n"
     ]
    }
   ],
   "source": [
    "model = Sequential()\n",
    "model.add(Embedding(total_words, 100, input_length=max_sequence_len-1))\n",
    "model.add(Bidirectional(LSTM(150)))\n",
    "model.add(Dense(total_words, activation='softmax'))"
   ]
  },
  {
   "cell_type": "code",
   "execution_count": 15,
   "metadata": {
    "colab": {
     "base_uri": "https://localhost:8080/",
     "height": 252
    },
    "colab_type": "code",
    "id": "ddrAfzoR-jSS",
    "outputId": "b61df2af-013b-4290-f9b9-6eafe2a22791"
   },
   "outputs": [
    {
     "name": "stdout",
     "output_type": "stream",
     "text": [
      "Model: \"sequential\"\n",
      "_________________________________________________________________\n",
      "Layer (type)                 Output Shape              Param #   \n",
      "=================================================================\n",
      "embedding (Embedding)        (None, 10, 100)           26300     \n",
      "_________________________________________________________________\n",
      "bidirectional (Bidirectional (None, 300)               301200    \n",
      "_________________________________________________________________\n",
      "dense (Dense)                (None, 263)               79163     \n",
      "=================================================================\n",
      "Total params: 406,663\n",
      "Trainable params: 406,663\n",
      "Non-trainable params: 0\n",
      "_________________________________________________________________\n"
     ]
    }
   ],
   "source": [
    "model.summary()"
   ]
  },
  {
   "cell_type": "code",
   "execution_count": 0,
   "metadata": {
    "colab": {},
    "colab_type": "code",
    "id": "_voX_nKk-eXA"
   },
   "outputs": [],
   "source": [
    "model.compile(loss='categorical_crossentropy', \n",
    "              optimizer=Adam(lr=0.01), \n",
    "              metrics=['accuracy'])"
   ]
  },
  {
   "cell_type": "code",
   "execution_count": 17,
   "metadata": {
    "colab": {
     "base_uri": "https://localhost:8080/",
     "height": 1000
    },
    "colab_type": "code",
    "id": "NHlNCuLs-hvz",
    "outputId": "396232d7-2f96-446c-9105-bf4130fa4cda"
   },
   "outputs": [
    {
     "name": "stderr",
     "output_type": "stream",
     "text": [
      "W0818 18:48:47.634301 140567814440832 deprecation.py:323] From /usr/local/lib/python3.6/dist-packages/tensorflow/python/ops/math_grad.py:1250: add_dispatch_support.<locals>.wrapper (from tensorflow.python.ops.array_ops) is deprecated and will be removed in a future version.\n",
      "Instructions for updating:\n",
      "Use tf.where in 2.0, which has the same broadcast rule as np.where\n"
     ]
    },
    {
     "name": "stdout",
     "output_type": "stream",
     "text": [
      "Epoch 1/100\n",
      "453/453 [==============================] - 2s 4ms/sample - loss: 5.4992 - acc: 0.0287\n",
      "Epoch 2/100\n",
      "453/453 [==============================] - 1s 1ms/sample - loss: 5.2057 - acc: 0.0684\n",
      "Epoch 3/100\n",
      "453/453 [==============================] - 1s 1ms/sample - loss: 4.5322 - acc: 0.1015\n",
      "Epoch 4/100\n",
      "453/453 [==============================] - 1s 1ms/sample - loss: 3.7943 - acc: 0.1678\n",
      "Epoch 5/100\n",
      "453/453 [==============================] - 1s 1ms/sample - loss: 2.8924 - acc: 0.3091\n",
      "Epoch 6/100\n",
      "453/453 [==============================] - 1s 1ms/sample - loss: 2.0132 - acc: 0.4790\n",
      "Epoch 7/100\n",
      "453/453 [==============================] - 1s 1ms/sample - loss: 1.3092 - acc: 0.6336\n",
      "Epoch 8/100\n",
      "453/453 [==============================] - 1s 1ms/sample - loss: 0.8007 - acc: 0.7837\n",
      "Epoch 9/100\n",
      "453/453 [==============================] - 1s 1ms/sample - loss: 0.5493 - acc: 0.8742\n",
      "Epoch 10/100\n",
      "453/453 [==============================] - 1s 1ms/sample - loss: 0.3744 - acc: 0.8874\n",
      "Epoch 11/100\n",
      "453/453 [==============================] - 1s 1ms/sample - loss: 0.2687 - acc: 0.9249\n",
      "Epoch 12/100\n",
      "453/453 [==============================] - 1s 1ms/sample - loss: 0.2880 - acc: 0.9316\n",
      "Epoch 13/100\n",
      "453/453 [==============================] - 1s 1ms/sample - loss: 0.2298 - acc: 0.9294\n",
      "Epoch 14/100\n",
      "453/453 [==============================] - 1s 1ms/sample - loss: 0.1950 - acc: 0.9382\n",
      "Epoch 15/100\n",
      "453/453 [==============================] - 1s 1ms/sample - loss: 0.1637 - acc: 0.9360\n",
      "Epoch 16/100\n",
      "453/453 [==============================] - 1s 1ms/sample - loss: 0.1517 - acc: 0.9382\n",
      "Epoch 17/100\n",
      "453/453 [==============================] - 1s 1ms/sample - loss: 0.1326 - acc: 0.9338\n",
      "Epoch 18/100\n",
      "453/453 [==============================] - 1s 1ms/sample - loss: 0.1691 - acc: 0.9382\n",
      "Epoch 19/100\n",
      "453/453 [==============================] - 1s 1ms/sample - loss: 0.1544 - acc: 0.9382\n",
      "Epoch 20/100\n",
      "453/453 [==============================] - 1s 1ms/sample - loss: 0.1456 - acc: 0.9382\n",
      "Epoch 21/100\n",
      "453/453 [==============================] - 1s 1ms/sample - loss: 0.1470 - acc: 0.9382\n",
      "Epoch 22/100\n",
      "453/453 [==============================] - 1s 1ms/sample - loss: 0.1383 - acc: 0.9426\n",
      "Epoch 23/100\n",
      "453/453 [==============================] - 1s 1ms/sample - loss: 0.1266 - acc: 0.9404\n",
      "Epoch 24/100\n",
      "453/453 [==============================] - 1s 1ms/sample - loss: 0.1304 - acc: 0.9448\n",
      "Epoch 25/100\n",
      "453/453 [==============================] - 1s 1ms/sample - loss: 0.1402 - acc: 0.9470\n",
      "Epoch 26/100\n",
      "453/453 [==============================] - 1s 1ms/sample - loss: 0.1325 - acc: 0.9404\n",
      "Epoch 27/100\n",
      "453/453 [==============================] - 1s 1ms/sample - loss: 0.1255 - acc: 0.9338\n",
      "Epoch 28/100\n",
      "453/453 [==============================] - 1s 1ms/sample - loss: 0.1190 - acc: 0.9448\n",
      "Epoch 29/100\n",
      "453/453 [==============================] - 1s 1ms/sample - loss: 0.1162 - acc: 0.9426\n",
      "Epoch 30/100\n",
      "453/453 [==============================] - 1s 1ms/sample - loss: 0.1140 - acc: 0.9426\n",
      "Epoch 31/100\n",
      "453/453 [==============================] - 1s 1ms/sample - loss: 0.1172 - acc: 0.9404\n",
      "Epoch 32/100\n",
      "453/453 [==============================] - 1s 1ms/sample - loss: 0.1047 - acc: 0.9448\n",
      "Epoch 33/100\n",
      "453/453 [==============================] - 1s 1ms/sample - loss: 0.1232 - acc: 0.9470\n",
      "Epoch 34/100\n",
      "453/453 [==============================] - 1s 1ms/sample - loss: 0.1384 - acc: 0.9426\n",
      "Epoch 35/100\n",
      "453/453 [==============================] - 1s 1ms/sample - loss: 0.1328 - acc: 0.9492\n",
      "Epoch 36/100\n",
      "453/453 [==============================] - 1s 1ms/sample - loss: 0.1361 - acc: 0.9470\n",
      "Epoch 37/100\n",
      "453/453 [==============================] - 1s 1ms/sample - loss: 0.1301 - acc: 0.9448\n",
      "Epoch 38/100\n",
      "453/453 [==============================] - 1s 1ms/sample - loss: 0.1298 - acc: 0.9470\n",
      "Epoch 39/100\n",
      "453/453 [==============================] - 1s 1ms/sample - loss: 0.1104 - acc: 0.9404\n",
      "Epoch 40/100\n",
      "453/453 [==============================] - 1s 1ms/sample - loss: 0.1188 - acc: 0.9426\n",
      "Epoch 41/100\n",
      "453/453 [==============================] - 1s 1ms/sample - loss: 0.1246 - acc: 0.9448\n",
      "Epoch 42/100\n",
      "453/453 [==============================] - 1s 1ms/sample - loss: 0.1116 - acc: 0.9492\n",
      "Epoch 43/100\n",
      "453/453 [==============================] - 1s 1ms/sample - loss: 0.1157 - acc: 0.9514\n",
      "Epoch 44/100\n",
      "453/453 [==============================] - 1s 1ms/sample - loss: 0.1089 - acc: 0.9382\n",
      "Epoch 45/100\n",
      "453/453 [==============================] - 1s 1ms/sample - loss: 0.1179 - acc: 0.9360\n",
      "Epoch 46/100\n",
      "453/453 [==============================] - 1s 1ms/sample - loss: 0.1008 - acc: 0.9514\n",
      "Epoch 47/100\n",
      "453/453 [==============================] - 1s 1ms/sample - loss: 0.1041 - acc: 0.9360\n",
      "Epoch 48/100\n",
      "453/453 [==============================] - 1s 1ms/sample - loss: 0.1009 - acc: 0.9404\n",
      "Epoch 49/100\n",
      "453/453 [==============================] - 1s 1ms/sample - loss: 0.1064 - acc: 0.9448\n",
      "Epoch 50/100\n",
      "453/453 [==============================] - 1s 1ms/sample - loss: 0.1038 - acc: 0.9448\n",
      "Epoch 51/100\n",
      "453/453 [==============================] - 1s 1ms/sample - loss: 0.1121 - acc: 0.9360\n",
      "Epoch 52/100\n",
      "453/453 [==============================] - 1s 1ms/sample - loss: 0.1069 - acc: 0.9470\n",
      "Epoch 53/100\n",
      "453/453 [==============================] - 1s 1ms/sample - loss: 0.1034 - acc: 0.9492\n",
      "Epoch 54/100\n",
      "453/453 [==============================] - 1s 1ms/sample - loss: 0.1126 - acc: 0.9492\n",
      "Epoch 55/100\n",
      "453/453 [==============================] - 1s 1ms/sample - loss: 0.1158 - acc: 0.9404\n",
      "Epoch 56/100\n",
      "453/453 [==============================] - 1s 1ms/sample - loss: 0.1312 - acc: 0.9448\n",
      "Epoch 57/100\n",
      "453/453 [==============================] - 1s 1ms/sample - loss: 0.1244 - acc: 0.9492\n",
      "Epoch 58/100\n",
      "453/453 [==============================] - 1s 1ms/sample - loss: 0.1220 - acc: 0.9448\n",
      "Epoch 59/100\n",
      "453/453 [==============================] - 1s 1ms/sample - loss: 0.1129 - acc: 0.9470\n",
      "Epoch 60/100\n",
      "453/453 [==============================] - 1s 1ms/sample - loss: 0.1059 - acc: 0.9470\n",
      "Epoch 61/100\n",
      "453/453 [==============================] - 1s 1ms/sample - loss: 0.1033 - acc: 0.9360\n",
      "Epoch 62/100\n",
      "453/453 [==============================] - 1s 1ms/sample - loss: 0.1062 - acc: 0.9426\n",
      "Epoch 63/100\n",
      "453/453 [==============================] - 1s 1ms/sample - loss: 0.1149 - acc: 0.9426\n",
      "Epoch 64/100\n",
      "453/453 [==============================] - 1s 1ms/sample - loss: 0.1059 - acc: 0.9448\n",
      "Epoch 65/100\n",
      "453/453 [==============================] - 1s 1ms/sample - loss: 0.1098 - acc: 0.9426\n",
      "Epoch 66/100\n",
      "453/453 [==============================] - 1s 1ms/sample - loss: 0.1131 - acc: 0.9448\n",
      "Epoch 67/100\n",
      "453/453 [==============================] - 1s 1ms/sample - loss: 0.1118 - acc: 0.9470\n",
      "Epoch 68/100\n",
      "453/453 [==============================] - 1s 1ms/sample - loss: 0.1146 - acc: 0.9448\n",
      "Epoch 69/100\n",
      "453/453 [==============================] - 1s 1ms/sample - loss: 0.1163 - acc: 0.9426\n",
      "Epoch 70/100\n",
      "453/453 [==============================] - 1s 1ms/sample - loss: 0.1127 - acc: 0.9448\n",
      "Epoch 71/100\n",
      "453/453 [==============================] - 1s 1ms/sample - loss: 0.1141 - acc: 0.9382\n",
      "Epoch 72/100\n",
      "453/453 [==============================] - 1s 1ms/sample - loss: 0.1095 - acc: 0.9492\n",
      "Epoch 73/100\n",
      "453/453 [==============================] - 1s 1ms/sample - loss: 0.1256 - acc: 0.9382\n",
      "Epoch 74/100\n",
      "453/453 [==============================] - 1s 1ms/sample - loss: 0.1250 - acc: 0.9448\n",
      "Epoch 75/100\n",
      "453/453 [==============================] - 1s 1ms/sample - loss: 0.1194 - acc: 0.9492\n",
      "Epoch 76/100\n",
      "453/453 [==============================] - 1s 1ms/sample - loss: 0.1172 - acc: 0.9448\n",
      "Epoch 77/100\n",
      "453/453 [==============================] - 1s 1ms/sample - loss: 0.1096 - acc: 0.9448\n",
      "Epoch 78/100\n",
      "453/453 [==============================] - 1s 1ms/sample - loss: 0.1037 - acc: 0.9448\n",
      "Epoch 79/100\n",
      "453/453 [==============================] - 1s 1ms/sample - loss: 0.1104 - acc: 0.9492\n",
      "Epoch 80/100\n",
      "453/453 [==============================] - 1s 1ms/sample - loss: 0.1135 - acc: 0.9382\n",
      "Epoch 81/100\n",
      "453/453 [==============================] - 1s 1ms/sample - loss: 0.1283 - acc: 0.9382\n",
      "Epoch 82/100\n",
      "453/453 [==============================] - 1s 1ms/sample - loss: 0.1328 - acc: 0.9360\n",
      "Epoch 83/100\n",
      "453/453 [==============================] - 1s 1ms/sample - loss: 0.1779 - acc: 0.9272\n",
      "Epoch 84/100\n",
      "453/453 [==============================] - 1s 1ms/sample - loss: 0.3476 - acc: 0.8962\n",
      "Epoch 85/100\n",
      "453/453 [==============================] - 1s 1ms/sample - loss: 0.5491 - acc: 0.8256\n",
      "Epoch 86/100\n",
      "453/453 [==============================] - 1s 1ms/sample - loss: 0.6768 - acc: 0.7969\n",
      "Epoch 87/100\n",
      "453/453 [==============================] - 1s 1ms/sample - loss: 0.6378 - acc: 0.8035\n",
      "Epoch 88/100\n",
      "453/453 [==============================] - 1s 1ms/sample - loss: 0.4729 - acc: 0.8543\n",
      "Epoch 89/100\n",
      "453/453 [==============================] - 1s 1ms/sample - loss: 0.2891 - acc: 0.8985\n",
      "Epoch 90/100\n",
      "453/453 [==============================] - 1s 1ms/sample - loss: 0.1760 - acc: 0.9338\n",
      "Epoch 91/100\n",
      "453/453 [==============================] - 1s 1ms/sample - loss: 0.1444 - acc: 0.9382\n",
      "Epoch 92/100\n",
      "453/453 [==============================] - 1s 1ms/sample - loss: 0.1225 - acc: 0.9382\n",
      "Epoch 93/100\n",
      "453/453 [==============================] - 1s 1ms/sample - loss: 0.1172 - acc: 0.9316\n",
      "Epoch 94/100\n",
      "453/453 [==============================] - 1s 1ms/sample - loss: 0.1097 - acc: 0.9448\n",
      "Epoch 95/100\n",
      "453/453 [==============================] - 1s 1ms/sample - loss: 0.1129 - acc: 0.9470\n",
      "Epoch 96/100\n",
      "453/453 [==============================] - 1s 1ms/sample - loss: 0.1082 - acc: 0.9448\n",
      "Epoch 97/100\n",
      "453/453 [==============================] - 1s 1ms/sample - loss: 0.1042 - acc: 0.9360\n",
      "Epoch 98/100\n",
      "453/453 [==============================] - 1s 1ms/sample - loss: 0.1064 - acc: 0.9316\n",
      "Epoch 99/100\n",
      "453/453 [==============================] - 1s 1ms/sample - loss: 0.1091 - acc: 0.9426\n",
      "Epoch 100/100\n",
      "453/453 [==============================] - 1s 1ms/sample - loss: 0.1231 - acc: 0.9426\n"
     ]
    }
   ],
   "source": [
    "history = model.fit(xs, ys, \n",
    "                    epochs=100, \n",
    "                    verbose=1)"
   ]
  },
  {
   "cell_type": "code",
   "execution_count": 0,
   "metadata": {
    "colab": {},
    "colab_type": "code",
    "id": "9mXMVvsV-p96"
   },
   "outputs": [],
   "source": [
    "import matplotlib.pyplot as plt\n",
    "\n",
    "\n",
    "def plot_graphs(history, string):\n",
    "  plt.plot(history.history[string])\n",
    "  plt.xlabel(\"Epochs\")\n",
    "  plt.ylabel(string)\n",
    "  plt.show()"
   ]
  },
  {
   "cell_type": "code",
   "execution_count": 20,
   "metadata": {
    "colab": {
     "base_uri": "https://localhost:8080/",
     "height": 283
    },
    "colab_type": "code",
    "id": "eQFCG8pq_Pxn",
    "outputId": "664ce085-9728-4497-beb2-9417be0aa422"
   },
   "outputs": [
    {
     "data": {
      "image/png": "[encoded data removed]",
      "text/plain": [
       "<Figure size 432x288 with 1 Axes>"
      ]
     },
     "metadata": {
      "tags": []
     },
     "output_type": "display_data"
    }
   ],
   "source": [
    "plot_graphs(history, 'acc')"
   ]
  },
  {
   "cell_type": "code",
   "execution_count": 21,
   "metadata": {
    "colab": {
     "base_uri": "https://localhost:8080/",
     "height": 54
    },
    "colab_type": "code",
    "id": "N0nxeo89_SkP",
    "outputId": "d5f61640-7224-4831-e4a3-f02fe904a82b"
   },
   "outputs": [
    {
     "name": "stdout",
     "output_type": "stream",
     "text": [
      "Erol went to dublin got all mad at me me at lanigans ball me for lanigans ball me a call her a call her a morgan so powerful and able they got all mad at me me ladies groups ladies groups me me a call her a morgan and able and call hullabaloo a eyes and able and able hullabaloo all round the room in a whirligig and able them all all how the room in a whirligig and a jig how all the call and dancing away happened away away ask mad in the piper of ground being and all mad at the\n"
     ]
    }
   ],
   "source": [
    "seed_text = \"Erol went to dublin\"\n",
    "next_words = 100\n",
    "  \n",
    "for _ in range(next_words):\n",
    "\ttoken_list = tokenizer.texts_to_sequences([seed_text])[0]\n",
    "\ttoken_list = pad_sequences([token_list], maxlen=max_sequence_len-1, padding='pre')\n",
    "\tpredicted = model.predict_classes(token_list, verbose=0)\n",
    "\toutput_word = \"\"\n",
    "  \n",
    "\tfor word, index in tokenizer.word_index.items():\n",
    "\t\tif index == predicted:\n",
    "\t\t\toutput_word = word\n",
    "\t\t\tbreak\n",
    "\tseed_text += \" \" + output_word\n",
    "print(seed_text)"
   ]
  },
  {
   "cell_type": "code",
   "execution_count": 0,
   "metadata": {
    "colab": {},
    "colab_type": "code",
    "id": "jO_71WWN_utd"
   },
   "outputs": [],
   "source": []
  }
 ],
 "metadata": {
  "accelerator": "GPU",
  "colab": {
   "name": "Week 4 - Lesson 1.ipynb",
   "provenance": [],
   "version": "0.3.2"
  },
  "kernelspec": {
   "display_name": "Python 3",
   "language": "python",
   "name": "python3"
  },
  "language_info": {
   "codemirror_mode": {
    "name": "ipython",
    "version": 3
   },
   "file_extension": ".py",
   "mimetype": "text/x-python",
   "name": "python",
   "nbconvert_exporter": "python",
   "pygments_lexer": "ipython3",
   "version": "3.6.8"
  }
 },
 "nbformat": 4,
 "nbformat_minor": 1
}
