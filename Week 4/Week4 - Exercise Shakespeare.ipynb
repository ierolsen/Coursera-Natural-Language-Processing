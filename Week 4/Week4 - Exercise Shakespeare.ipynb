{
 "cells": [
  {
   "cell_type": "code",
   "execution_count": 0,
   "metadata": {
    "colab": {},
    "colab_type": "code",
    "id": "ivCeO-YhSGrc"
   },
   "outputs": [],
   "source": [
    "from tensorflow.keras.preprocessing.sequence import pad_sequences\n",
    "from tensorflow.keras.layers import Embedding, LSTM, Dense, Dropout, Bidirectional\n",
    "from tensorflow.keras.preprocessing.text import Tokenizer\n",
    "from tensorflow.keras.models import Sequential\n",
    "from tensorflow.keras.optimizers import Adam\n",
    "from tensorflow.keras import regularizers\n",
    "import tensorflow.keras.utils as ku \n",
    "import numpy as np"
   ]
  },
  {
   "cell_type": "code",
   "execution_count": 2,
   "metadata": {
    "colab": {
     "base_uri": "https://localhost:8080/",
     "height": 202
    },
    "colab_type": "code",
    "id": "ec_QR4izSNYI",
    "outputId": "0aa21514-b81b-4558-8894-33c8e1790971"
   },
   "outputs": [
    {
     "name": "stdout",
     "output_type": "stream",
     "text": [
      "--2019-08-18 19:51:43--  https://storage.googleapis.com/laurencemoroney-blog.appspot.com/sonnets.txt\n",
      "Resolving storage.googleapis.com (storage.googleapis.com)... 74.125.141.128, 2607:f8b0:400c:c06::80\n",
      "Connecting to storage.googleapis.com (storage.googleapis.com)|74.125.141.128|:443... connected.\n",
      "HTTP request sent, awaiting response... 200 OK\n",
      "Length: 93578 (91K) [text/plain]\n",
      "Saving to: ‘/tmp/sonnets.txt’\n",
      "\n",
      "\r",
      "/tmp/sonnets.txt      0%[                    ]       0  --.-KB/s               \r",
      "/tmp/sonnets.txt    100%[===================>]  91.38K  --.-KB/s    in 0.001s  \n",
      "\n",
      "2019-08-18 19:51:44 (90.4 MB/s) - ‘/tmp/sonnets.txt’ saved [93578/93578]\n",
      "\n"
     ]
    }
   ],
   "source": [
    "!wget --no-check-certificate \\\n",
    "    https://storage.googleapis.com/laurencemoroney-blog.appspot.com/sonnets.txt \\\n",
    "    -O /tmp/sonnets.txt"
   ]
  },
  {
   "cell_type": "code",
   "execution_count": 0,
   "metadata": {
    "colab": {},
    "colab_type": "code",
    "id": "OM1ux3guSRYT"
   },
   "outputs": [],
   "source": [
    "data = open('/tmp/sonnets.txt').read()"
   ]
  },
  {
   "cell_type": "code",
   "execution_count": 0,
   "metadata": {
    "colab": {},
    "colab_type": "code",
    "id": "P4M73y0nSSaa"
   },
   "outputs": [],
   "source": [
    "corpus = data.lower().split(\"\\n\")"
   ]
  },
  {
   "cell_type": "code",
   "execution_count": 0,
   "metadata": {
    "colab": {},
    "colab_type": "code",
    "id": "UQeGi3HYSVQY"
   },
   "outputs": [],
   "source": [
    "tokenizer = Tokenizer()\n",
    "\n",
    "tokenizer.fit_on_texts(corpus)\n",
    "total_words = len(tokenizer.word_index) + 1"
   ]
  },
  {
   "cell_type": "code",
   "execution_count": 0,
   "metadata": {
    "colab": {},
    "colab_type": "code",
    "id": "9b1nSp53SY5w"
   },
   "outputs": [],
   "source": [
    "# create input sequences using list of tokens\n",
    "input_sequences = []\n",
    "for line in corpus:\n",
    "\ttoken_list = tokenizer.texts_to_sequences([line])[0]\n",
    "\tfor i in range(1, len(token_list)):\n",
    "\t\tn_gram_sequence = token_list[:i+1]\n",
    "\t\tinput_sequences.append(n_gram_sequence)"
   ]
  },
  {
   "cell_type": "code",
   "execution_count": 0,
   "metadata": {
    "colab": {},
    "colab_type": "code",
    "id": "hNQYMbpmSaq7"
   },
   "outputs": [],
   "source": [
    "# pad sequences \n",
    "max_sequence_len = max([len(x) for x in input_sequences])\n",
    "input_sequences = np.array(pad_sequences(input_sequences, maxlen=max_sequence_len, padding='pre'))"
   ]
  },
  {
   "cell_type": "code",
   "execution_count": 0,
   "metadata": {
    "colab": {},
    "colab_type": "code",
    "id": "M1q2f-hKSce1"
   },
   "outputs": [],
   "source": [
    "# create predictors and label\n",
    "predictors, label = input_sequences[:,:-1],input_sequences[:,-1]\n",
    "\n",
    "label = ku.to_categorical(label, num_classes=total_words)"
   ]
  },
  {
   "cell_type": "code",
   "execution_count": 9,
   "metadata": {
    "colab": {
     "base_uri": "https://localhost:8080/",
     "height": 658
    },
    "colab_type": "code",
    "id": "GKr3aScNSehC",
    "outputId": "da2644b1-2667-4da8-afdb-bccf92e9f1ce"
   },
   "outputs": [
    {
     "name": "stderr",
     "output_type": "stream",
     "text": [
      "WARNING: Logging before flag parsing goes to stderr.\n",
      "W0818 19:53:03.319671 139772304598912 deprecation.py:506] From /usr/local/lib/python3.6/dist-packages/tensorflow/python/keras/initializers.py:119: calling RandomUniform.__init__ (from tensorflow.python.ops.init_ops) with dtype is deprecated and will be removed in a future version.\n",
      "Instructions for updating:\n",
      "Call initializer instance with the dtype argument instead of passing it to the constructor\n",
      "W0818 19:53:03.375960 139772304598912 deprecation.py:506] From /usr/local/lib/python3.6/dist-packages/tensorflow/python/ops/init_ops.py:1251: calling VarianceScaling.__init__ (from tensorflow.python.ops.init_ops) with dtype is deprecated and will be removed in a future version.\n",
      "Instructions for updating:\n",
      "Call initializer instance with the dtype argument instead of passing it to the constructor\n",
      "W0818 19:53:03.383539 139772304598912 deprecation.py:506] From /usr/local/lib/python3.6/dist-packages/tensorflow/python/ops/init_ops.py:97: calling GlorotUniform.__init__ (from tensorflow.python.ops.init_ops) with dtype is deprecated and will be removed in a future version.\n",
      "Instructions for updating:\n",
      "Call initializer instance with the dtype argument instead of passing it to the constructor\n",
      "W0818 19:53:03.387231 139772304598912 deprecation.py:506] From /usr/local/lib/python3.6/dist-packages/tensorflow/python/ops/init_ops.py:97: calling Orthogonal.__init__ (from tensorflow.python.ops.init_ops) with dtype is deprecated and will be removed in a future version.\n",
      "Instructions for updating:\n",
      "Call initializer instance with the dtype argument instead of passing it to the constructor\n",
      "W0818 19:53:03.392207 139772304598912 deprecation.py:506] From /usr/local/lib/python3.6/dist-packages/tensorflow/python/ops/init_ops.py:97: calling Zeros.__init__ (from tensorflow.python.ops.init_ops) with dtype is deprecated and will be removed in a future version.\n",
      "Instructions for updating:\n",
      "Call initializer instance with the dtype argument instead of passing it to the constructor\n"
     ]
    },
    {
     "name": "stdout",
     "output_type": "stream",
     "text": [
      "Model: \"sequential\"\n",
      "_________________________________________________________________\n",
      "Layer (type)                 Output Shape              Param #   \n",
      "=================================================================\n",
      "embedding (Embedding)        (None, 10, 100)           321100    \n",
      "_________________________________________________________________\n",
      "bidirectional (Bidirectional (None, 10, 300)           301200    \n",
      "_________________________________________________________________\n",
      "dropout (Dropout)            (None, 10, 300)           0         \n",
      "_________________________________________________________________\n",
      "lstm_1 (LSTM)                (None, 100)               160400    \n",
      "_________________________________________________________________\n",
      "dense (Dense)                (None, 1605)              162105    \n",
      "_________________________________________________________________\n",
      "dense_1 (Dense)              (None, 3211)              5156866   \n",
      "=================================================================\n",
      "Total params: 6,101,671\n",
      "Trainable params: 6,101,671\n",
      "Non-trainable params: 0\n",
      "_________________________________________________________________\n",
      "None\n"
     ]
    }
   ],
   "source": [
    "model = Sequential()\n",
    "model.add(Embedding(total_words, 100, input_length=max_sequence_len-1))\n",
    "model.add(Bidirectional(LSTM(150, return_sequences = True)))\n",
    "model.add(Dropout(0.2))\n",
    "model.add(LSTM(100))\n",
    "model.add(Dense(total_words/2, activation='relu', kernel_regularizer=regularizers.l2(0.01)))\n",
    "model.add(Dense(total_words, activation='softmax'))\n",
    "\n",
    "\n",
    "model.compile(loss='categorical_crossentropy', \n",
    "              optimizer='adam',\n",
    "              metrics=['accuracy'])\n",
    "\n",
    "print(model.summary())"
   ]
  },
  {
   "cell_type": "code",
   "execution_count": 10,
   "metadata": {
    "colab": {
     "base_uri": "https://localhost:8080/",
     "height": 1000
    },
    "colab_type": "code",
    "id": "S7UX2p6aSk6y",
    "outputId": "461d61ce-0725-4b64-86ac-f2a3b3120789"
   },
   "outputs": [
    {
     "name": "stderr",
     "output_type": "stream",
     "text": [
      "W0818 19:53:29.256868 139772304598912 deprecation.py:323] From /usr/local/lib/python3.6/dist-packages/tensorflow/python/ops/math_grad.py:1250: add_dispatch_support.<locals>.wrapper (from tensorflow.python.ops.array_ops) is deprecated and will be removed in a future version.\n",
      "Instructions for updating:\n",
      "Use tf.where in 2.0, which has the same broadcast rule as np.where\n"
     ]
    },
    {
     "name": "stdout",
     "output_type": "stream",
     "text": [
      "Epoch 1/100\n",
      "15462/15462 [==============================] - 84s 5ms/sample - loss: 6.9248 - acc: 0.0206\n",
      "Epoch 2/100\n",
      "15462/15462 [==============================] - 82s 5ms/sample - loss: 6.5013 - acc: 0.0230\n",
      "Epoch 3/100\n",
      "15462/15462 [==============================] - 82s 5ms/sample - loss: 6.3936 - acc: 0.0254\n",
      "Epoch 4/100\n",
      "15462/15462 [==============================] - 83s 5ms/sample - loss: 6.2732 - acc: 0.0280\n",
      "Epoch 5/100\n",
      "15462/15462 [==============================] - 82s 5ms/sample - loss: 6.1777 - acc: 0.0343\n",
      "Epoch 6/100\n",
      "15462/15462 [==============================] - 82s 5ms/sample - loss: 6.0879 - acc: 0.0383\n",
      "Epoch 7/100\n",
      "15462/15462 [==============================] - 82s 5ms/sample - loss: 6.0112 - acc: 0.0402\n",
      "Epoch 8/100\n",
      "15462/15462 [==============================] - 82s 5ms/sample - loss: 5.9316 - acc: 0.0433\n",
      "Epoch 9/100\n",
      "15462/15462 [==============================] - 83s 5ms/sample - loss: 5.8470 - acc: 0.0485\n",
      "Epoch 10/100\n",
      "15462/15462 [==============================] - 82s 5ms/sample - loss: 5.7454 - acc: 0.0542\n",
      "Epoch 11/100\n",
      "15462/15462 [==============================] - 83s 5ms/sample - loss: 5.6377 - acc: 0.0623\n",
      "Epoch 12/100\n",
      "15462/15462 [==============================] - 83s 5ms/sample - loss: 5.5200 - acc: 0.0675\n",
      "Epoch 13/100\n",
      "15462/15462 [==============================] - 83s 5ms/sample - loss: 5.4106 - acc: 0.0744\n",
      "Epoch 14/100\n",
      "15462/15462 [==============================] - 82s 5ms/sample - loss: 5.3009 - acc: 0.0822\n",
      "Epoch 15/100\n",
      "15462/15462 [==============================] - 82s 5ms/sample - loss: 5.1852 - acc: 0.0912\n",
      "Epoch 16/100\n",
      "15462/15462 [==============================] - 82s 5ms/sample - loss: 5.0744 - acc: 0.0964\n",
      "Epoch 17/100\n",
      "15462/15462 [==============================] - 82s 5ms/sample - loss: 4.9622 - acc: 0.1072\n",
      "Epoch 18/100\n",
      "15462/15462 [==============================] - 82s 5ms/sample - loss: 4.8518 - acc: 0.1134\n",
      "Epoch 19/100\n",
      "15462/15462 [==============================] - 83s 5ms/sample - loss: 4.7416 - acc: 0.1214\n",
      "Epoch 20/100\n",
      "15462/15462 [==============================] - 83s 5ms/sample - loss: 4.6319 - acc: 0.1306\n",
      "Epoch 21/100\n",
      "15462/15462 [==============================] - 82s 5ms/sample - loss: 4.5273 - acc: 0.1407\n",
      "Epoch 22/100\n",
      "15462/15462 [==============================] - 82s 5ms/sample - loss: 4.4149 - acc: 0.1482\n",
      "Epoch 23/100\n",
      "15462/15462 [==============================] - 82s 5ms/sample - loss: 4.3099 - acc: 0.1622\n",
      "Epoch 24/100\n",
      "15462/15462 [==============================] - 82s 5ms/sample - loss: 4.1958 - acc: 0.1750\n",
      "Epoch 25/100\n",
      "15462/15462 [==============================] - 82s 5ms/sample - loss: 4.0930 - acc: 0.1889\n",
      "Epoch 26/100\n",
      "15462/15462 [==============================] - 82s 5ms/sample - loss: 3.9949 - acc: 0.2053\n",
      "Epoch 27/100\n",
      "15462/15462 [==============================] - 82s 5ms/sample - loss: 3.8904 - acc: 0.2214\n",
      "Epoch 28/100\n",
      "15462/15462 [==============================] - 82s 5ms/sample - loss: 3.7896 - acc: 0.2371\n",
      "Epoch 29/100\n",
      "15462/15462 [==============================] - 82s 5ms/sample - loss: 3.6881 - acc: 0.2570\n",
      "Epoch 30/100\n",
      "15462/15462 [==============================] - 82s 5ms/sample - loss: 3.5894 - acc: 0.2711\n",
      "Epoch 31/100\n",
      "15462/15462 [==============================] - 83s 5ms/sample - loss: 3.5056 - acc: 0.2958\n",
      "Epoch 32/100\n",
      "15462/15462 [==============================] - 83s 5ms/sample - loss: 3.4060 - acc: 0.3167\n",
      "Epoch 33/100\n",
      "15462/15462 [==============================] - 82s 5ms/sample - loss: 3.3174 - acc: 0.3359\n",
      "Epoch 34/100\n",
      "15462/15462 [==============================] - 82s 5ms/sample - loss: 3.2453 - acc: 0.3537\n",
      "Epoch 35/100\n",
      "15462/15462 [==============================] - 82s 5ms/sample - loss: 3.1639 - acc: 0.3729\n",
      "Epoch 36/100\n",
      "15462/15462 [==============================] - 82s 5ms/sample - loss: 3.0809 - acc: 0.3896\n",
      "Epoch 37/100\n",
      "15462/15462 [==============================] - 82s 5ms/sample - loss: 3.0068 - acc: 0.4015\n",
      "Epoch 38/100\n",
      "15462/15462 [==============================] - 83s 5ms/sample - loss: 2.9226 - acc: 0.4252\n",
      "Epoch 39/100\n",
      "15462/15462 [==============================] - 82s 5ms/sample - loss: 2.8466 - acc: 0.4413\n",
      "Epoch 40/100\n",
      "15462/15462 [==============================] - 82s 5ms/sample - loss: 2.7843 - acc: 0.4620\n",
      "Epoch 41/100\n",
      "15462/15462 [==============================] - 82s 5ms/sample - loss: 2.7199 - acc: 0.4708\n",
      "Epoch 42/100\n",
      "15462/15462 [==============================] - 83s 5ms/sample - loss: 2.6459 - acc: 0.4875\n",
      "Epoch 43/100\n",
      "15462/15462 [==============================] - 82s 5ms/sample - loss: 2.5925 - acc: 0.4998\n",
      "Epoch 44/100\n",
      "15462/15462 [==============================] - 82s 5ms/sample - loss: 2.5365 - acc: 0.5113\n",
      "Epoch 45/100\n",
      "15462/15462 [==============================] - 82s 5ms/sample - loss: 2.4751 - acc: 0.5259\n",
      "Epoch 46/100\n",
      "15462/15462 [==============================] - 82s 5ms/sample - loss: 2.4219 - acc: 0.5389\n",
      "Epoch 47/100\n",
      "15462/15462 [==============================] - 82s 5ms/sample - loss: 2.3520 - acc: 0.5538\n",
      "Epoch 48/100\n",
      "15462/15462 [==============================] - 82s 5ms/sample - loss: 2.3124 - acc: 0.5658\n",
      "Epoch 49/100\n",
      "15462/15462 [==============================] - 83s 5ms/sample - loss: 2.2535 - acc: 0.5816\n",
      "Epoch 50/100\n",
      "15462/15462 [==============================] - 82s 5ms/sample - loss: 2.2084 - acc: 0.5866\n",
      "Epoch 51/100\n",
      "15462/15462 [==============================] - 82s 5ms/sample - loss: 2.1554 - acc: 0.6015\n",
      "Epoch 52/100\n",
      "15462/15462 [==============================] - 82s 5ms/sample - loss: 2.1194 - acc: 0.6060\n",
      "Epoch 53/100\n",
      "15462/15462 [==============================] - 83s 5ms/sample - loss: 2.0630 - acc: 0.6238\n",
      "Epoch 54/100\n",
      "15462/15462 [==============================] - 82s 5ms/sample - loss: 2.0385 - acc: 0.6250\n",
      "Epoch 55/100\n",
      "15462/15462 [==============================] - 82s 5ms/sample - loss: 1.9863 - acc: 0.6414\n",
      "Epoch 56/100\n",
      "15462/15462 [==============================] - 82s 5ms/sample - loss: 1.9496 - acc: 0.6472\n",
      "Epoch 57/100\n",
      "15462/15462 [==============================] - 82s 5ms/sample - loss: 1.9071 - acc: 0.6585\n",
      "Epoch 58/100\n",
      "15462/15462 [==============================] - 82s 5ms/sample - loss: 1.8790 - acc: 0.6624\n",
      "Epoch 59/100\n",
      "15462/15462 [==============================] - 82s 5ms/sample - loss: 1.8447 - acc: 0.6674\n",
      "Epoch 60/100\n",
      "15462/15462 [==============================] - 82s 5ms/sample - loss: 1.8079 - acc: 0.6782\n",
      "Epoch 61/100\n",
      "15462/15462 [==============================] - 83s 5ms/sample - loss: 1.7730 - acc: 0.6832\n",
      "Epoch 62/100\n",
      "15462/15462 [==============================] - 82s 5ms/sample - loss: 1.7515 - acc: 0.6869\n",
      "Epoch 63/100\n",
      "15462/15462 [==============================] - 82s 5ms/sample - loss: 1.7217 - acc: 0.6936\n",
      "Epoch 64/100\n",
      "15462/15462 [==============================] - 83s 5ms/sample - loss: 1.6875 - acc: 0.7015\n",
      "Epoch 65/100\n",
      "15462/15462 [==============================] - 82s 5ms/sample - loss: 1.6435 - acc: 0.7148\n",
      "Epoch 66/100\n",
      "15462/15462 [==============================] - 82s 5ms/sample - loss: 1.6292 - acc: 0.7146\n",
      "Epoch 67/100\n",
      "15462/15462 [==============================] - 82s 5ms/sample - loss: 1.6162 - acc: 0.7174\n",
      "Epoch 68/100\n",
      "15462/15462 [==============================] - 82s 5ms/sample - loss: 1.5860 - acc: 0.7256\n",
      "Epoch 69/100\n",
      "15462/15462 [==============================] - 82s 5ms/sample - loss: 1.5619 - acc: 0.7315\n",
      "Epoch 70/100\n",
      "15462/15462 [==============================] - 82s 5ms/sample - loss: 1.5224 - acc: 0.7387\n",
      "Epoch 71/100\n",
      "15462/15462 [==============================] - 82s 5ms/sample - loss: 1.5148 - acc: 0.7369\n",
      "Epoch 72/100\n",
      "15462/15462 [==============================] - 82s 5ms/sample - loss: 1.5021 - acc: 0.7414\n",
      "Epoch 73/100\n",
      "15462/15462 [==============================] - 82s 5ms/sample - loss: 1.4671 - acc: 0.7490\n",
      "Epoch 74/100\n",
      "15462/15462 [==============================] - 82s 5ms/sample - loss: 1.4425 - acc: 0.7531\n",
      "Epoch 75/100\n",
      "15462/15462 [==============================] - 82s 5ms/sample - loss: 1.4220 - acc: 0.7586\n",
      "Epoch 76/100\n",
      "15462/15462 [==============================] - 82s 5ms/sample - loss: 1.4125 - acc: 0.7601\n",
      "Epoch 77/100\n",
      "15462/15462 [==============================] - 82s 5ms/sample - loss: 1.3887 - acc: 0.7635\n",
      "Epoch 78/100\n",
      "15462/15462 [==============================] - 82s 5ms/sample - loss: 1.3717 - acc: 0.7646\n",
      "Epoch 79/100\n",
      "15462/15462 [==============================] - 81s 5ms/sample - loss: 1.3690 - acc: 0.7637\n",
      "Epoch 80/100\n",
      "15462/15462 [==============================] - 82s 5ms/sample - loss: 1.3493 - acc: 0.7673\n",
      "Epoch 81/100\n",
      "15462/15462 [==============================] - 82s 5ms/sample - loss: 1.3303 - acc: 0.7725\n",
      "Epoch 82/100\n",
      "15462/15462 [==============================] - 82s 5ms/sample - loss: 1.3161 - acc: 0.7782\n",
      "Epoch 83/100\n",
      "15462/15462 [==============================] - 82s 5ms/sample - loss: 1.2942 - acc: 0.7791\n",
      "Epoch 84/100\n",
      "15462/15462 [==============================] - 83s 5ms/sample - loss: 1.2766 - acc: 0.7817\n",
      "Epoch 85/100\n",
      "15462/15462 [==============================] - 82s 5ms/sample - loss: 1.2721 - acc: 0.7863\n",
      "Epoch 86/100\n",
      "15462/15462 [==============================] - 83s 5ms/sample - loss: 1.2461 - acc: 0.7863\n",
      "Epoch 87/100\n",
      "15462/15462 [==============================] - 82s 5ms/sample - loss: 1.2368 - acc: 0.7905\n",
      "Epoch 88/100\n",
      "15462/15462 [==============================] - 82s 5ms/sample - loss: 1.2274 - acc: 0.7888\n",
      "Epoch 89/100\n",
      "15462/15462 [==============================] - 82s 5ms/sample - loss: 1.2221 - acc: 0.7891\n",
      "Epoch 90/100\n",
      "15462/15462 [==============================] - 82s 5ms/sample - loss: 1.2085 - acc: 0.7921\n",
      "Epoch 91/100\n",
      "15462/15462 [==============================] - 82s 5ms/sample - loss: 1.1887 - acc: 0.7982\n",
      "Epoch 92/100\n",
      "15462/15462 [==============================] - 81s 5ms/sample - loss: 1.1821 - acc: 0.8002\n",
      "Epoch 93/100\n",
      "15462/15462 [==============================] - 82s 5ms/sample - loss: 1.1651 - acc: 0.7983\n",
      "Epoch 94/100\n",
      "15462/15462 [==============================] - 82s 5ms/sample - loss: 1.1596 - acc: 0.8017\n",
      "Epoch 95/100\n",
      "15462/15462 [==============================] - 82s 5ms/sample - loss: 1.1441 - acc: 0.8058\n",
      "Epoch 96/100\n",
      "15462/15462 [==============================] - 82s 5ms/sample - loss: 1.1398 - acc: 0.8038\n",
      "Epoch 97/100\n",
      "15462/15462 [==============================] - 83s 5ms/sample - loss: 1.1326 - acc: 0.8029\n",
      "Epoch 98/100\n",
      "15462/15462 [==============================] - 82s 5ms/sample - loss: 1.1252 - acc: 0.8080\n",
      "Epoch 99/100\n",
      "15462/15462 [==============================] - 82s 5ms/sample - loss: 1.1174 - acc: 0.8054\n",
      "Epoch 100/100\n",
      "15462/15462 [==============================] - 82s 5ms/sample - loss: 1.1117 - acc: 0.8044\n"
     ]
    }
   ],
   "source": [
    " history = model.fit(predictors, \n",
    "                     label, \n",
    "                     epochs=100, \n",
    "                     verbose=1)"
   ]
  },
  {
   "cell_type": "code",
   "execution_count": 11,
   "metadata": {
    "colab": {
     "base_uri": "https://localhost:8080/",
     "height": 545
    },
    "colab_type": "code",
    "id": "FapEpU7TSrOI",
    "outputId": "9e97d930-071f-4d88-d632-50928b84aeb8"
   },
   "outputs": [
    {
     "data": {
      "image/png": "[encoded data removed]",
      "text/plain": [
       "<Figure size 432x288 with 1 Axes>"
      ]
     },
     "metadata": {
      "tags": []
     },
     "output_type": "display_data"
    },
    {
     "data": {
      "image/png": "[encoded data removed]",
      "text/plain": [
       "<Figure size 432x288 with 1 Axes>"
      ]
     },
     "metadata": {
      "tags": []
     },
     "output_type": "display_data"
    }
   ],
   "source": [
    "import matplotlib.pyplot as plt\n",
    "\n",
    "\n",
    "acc = history.history['acc']\n",
    "loss = history.history['loss']\n",
    "\n",
    "epochs = range(len(acc))\n",
    "\n",
    "plt.plot(epochs, acc, 'b', label='Training accuracy')\n",
    "plt.title('Training accuracy')\n",
    "\n",
    "plt.figure()\n",
    "\n",
    "plt.plot(epochs, loss, 'b', label='Training Loss')\n",
    "plt.title('Training loss')\n",
    "plt.legend()\n",
    "\n",
    "plt.show()"
   ]
  },
  {
   "cell_type": "code",
   "execution_count": 12,
   "metadata": {
    "colab": {
     "base_uri": "https://localhost:8080/",
     "height": 54
    },
    "colab_type": "code",
    "id": "q5SpM8ONSvJp",
    "outputId": "4a471cbe-d8f8-4d3e-bbf1-e7f88e73ad58"
   },
   "outputs": [
    {
     "name": "stdout",
     "output_type": "stream",
     "text": [
      "Life it seems to fade away, drifting further everyday refusest plants increase kind alone hour seem truth on youth so ' doth despise twain dyed rare staineth new must bear pleasure you live live bright ill part men doth warm'd twain green thee how thine mine say mine eye you in you best be best to find thine gems rare near abuse me still shown made rolling rolling afloat near scorn me dyed dyed best new part ' so bright pace point an glory still out day so blot to be thee seen truly write me new bad too age another sight ' not be stay so one hour\n"
     ]
    }
   ],
   "source": [
    "seed_text = \"Life it seems to fade away, drifting further everyday\"\n",
    "next_words = 100\n",
    "  \n",
    "for _ in range(next_words):\n",
    "\ttoken_list = tokenizer.texts_to_sequences([seed_text])[0]\n",
    "\ttoken_list = pad_sequences([token_list], maxlen=max_sequence_len-1, padding='pre')\n",
    "\tpredicted = model.predict_classes(token_list, verbose=0)\n",
    "\toutput_word = \"\"\n",
    "\tfor word, index in tokenizer.word_index.items():\n",
    "\t\tif index == predicted:\n",
    "\t\t\toutput_word = word\n",
    "\t\t\tbreak\n",
    "\tseed_text += \" \" + output_word\n",
    "print(seed_text)"
   ]
  },
  {
   "cell_type": "code",
   "execution_count": 0,
   "metadata": {
    "colab": {},
    "colab_type": "code",
    "id": "fpxfDQhBTBzy"
   },
   "outputs": [],
   "source": []
  }
 ],
 "metadata": {
  "colab": {
   "name": "NLP Week4 - Exercise Shakespeare.ipynb",
   "provenance": [],
   "version": "0.3.2"
  },
  "kernelspec": {
   "display_name": "Python 3",
   "language": "python",
   "name": "python3"
  },
  "language_info": {
   "codemirror_mode": {
    "name": "ipython",
    "version": 3
   },
   "file_extension": ".py",
   "mimetype": "text/x-python",
   "name": "python",
   "nbconvert_exporter": "python",
   "pygments_lexer": "ipython3",
   "version": "3.6.8"
  }
 },
 "nbformat": 4,
 "nbformat_minor": 1
}
