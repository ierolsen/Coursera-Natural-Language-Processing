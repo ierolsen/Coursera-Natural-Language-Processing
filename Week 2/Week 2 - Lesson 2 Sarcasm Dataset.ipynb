{
 "cells": [
  {
   "cell_type": "code",
   "execution_count": 0,
   "metadata": {
    "colab": {},
    "colab_type": "code",
    "id": "871HgP4a6PZ2"
   },
   "outputs": [],
   "source": [
    "import json\n",
    "import tensorflow as tf\n",
    "\n",
    "from tensorflow.keras.preprocessing.text import Tokenizer\n",
    "from tensorflow.keras.preprocessing.sequence import pad_sequences"
   ]
  },
  {
   "cell_type": "code",
   "execution_count": 2,
   "metadata": {
    "colab": {
     "base_uri": "https://localhost:8080/",
     "height": 202
    },
    "colab_type": "code",
    "id": "YfbxKKnF6RSm",
    "outputId": "150e3b44-966f-43e3-b1bf-8aa1c2920160"
   },
   "outputs": [
    {
     "name": "stdout",
     "output_type": "stream",
     "text": [
      "--2019-08-17 19:02:47--  https://storage.googleapis.com/laurencemoroney-blog.appspot.com/sarcasm.json\n",
      "Resolving storage.googleapis.com (storage.googleapis.com)... 173.194.76.128, 2a00:1450:400c:c00::80\n",
      "Connecting to storage.googleapis.com (storage.googleapis.com)|173.194.76.128|:443... connected.\n",
      "HTTP request sent, awaiting response... 200 OK\n",
      "Length: 5643545 (5.4M) [application/json]\n",
      "Saving to: ‘/tmp/sarcasm.json’\n",
      "\n",
      "\r",
      "/tmp/sarcasm.json     0%[                    ]       0  --.-KB/s               \r",
      "/tmp/sarcasm.json   100%[===================>]   5.38M  --.-KB/s    in 0.03s   \n",
      "\n",
      "2019-08-17 19:02:47 (156 MB/s) - ‘/tmp/sarcasm.json’ saved [5643545/5643545]\n",
      "\n"
     ]
    }
   ],
   "source": [
    "!wget --no-check-certificate \\\n",
    "    https://storage.googleapis.com/laurencemoroney-blog.appspot.com/sarcasm.json \\\n",
    "    -O /tmp/sarcasm.json"
   ]
  },
  {
   "cell_type": "code",
   "execution_count": 0,
   "metadata": {
    "colab": {},
    "colab_type": "code",
    "id": "E02Ifa3W6V9h"
   },
   "outputs": [],
   "source": [
    "vocab_size = 1000\n",
    "embedding_dim = 32\n",
    "max_length = 16\n",
    "trunc_type='post'\n",
    "padding_type='post'\n",
    "oov_tok = \"<OOV>\"\n",
    "training_size = 20000"
   ]
  },
  {
   "cell_type": "code",
   "execution_count": 0,
   "metadata": {
    "colab": {},
    "colab_type": "code",
    "id": "sBxQUTq56Ym4"
   },
   "outputs": [],
   "source": [
    "with open(\"/tmp/sarcasm.json\", 'r') as f:\n",
    "    datastore = json.load(f)\n",
    "\n",
    "sentences = []\n",
    "labels = []\n",
    "\n",
    "for item in datastore:\n",
    "    sentences.append(item['headline'])\n",
    "    labels.append(item['is_sarcastic'])"
   ]
  },
  {
   "cell_type": "code",
   "execution_count": 0,
   "metadata": {
    "colab": {},
    "colab_type": "code",
    "id": "owJ7M_cD6dAG"
   },
   "outputs": [],
   "source": [
    "training_sentences = sentences[0:training_size]\n",
    "testing_sentences = sentences[training_size:]\n",
    "training_labels = labels[0:training_size]\n",
    "testing_labels = labels[training_size:]"
   ]
  },
  {
   "cell_type": "code",
   "execution_count": 0,
   "metadata": {
    "colab": {},
    "colab_type": "code",
    "id": "SEB8Zlw06uCI"
   },
   "outputs": [],
   "source": [
    "tokenizer = Tokenizer(num_words=vocab_size, oov_token=oov_tok)\n",
    "tokenizer.fit_on_texts(training_sentences)\n",
    "\n",
    "word_index = tokenizer.word_index\n",
    "\n",
    "training_sequences = tokenizer.texts_to_sequences(training_sentences)\n",
    "training_padded = pad_sequences(training_sequences, maxlen=max_length, padding=padding_type, truncating=trunc_type)\n",
    "\n",
    "testing_sequences = tokenizer.texts_to_sequences(testing_sentences)\n",
    "testing_padded = pad_sequences(testing_sequences, maxlen=max_length, padding=padding_type, truncating=trunc_type)"
   ]
  },
  {
   "cell_type": "code",
   "execution_count": 7,
   "metadata": {
    "colab": {
     "base_uri": "https://localhost:8080/",
     "height": 205
    },
    "colab_type": "code",
    "id": "h0exWupy7I6j",
    "outputId": "8c906ac0-b96b-4ebe-be48-32c55fecda6d"
   },
   "outputs": [
    {
     "name": "stderr",
     "output_type": "stream",
     "text": [
      "WARNING: Logging before flag parsing goes to stderr.\n",
      "W0817 19:02:50.678790 139700294604672 deprecation.py:506] From /usr/local/lib/python3.6/dist-packages/tensorflow/python/keras/initializers.py:119: calling RandomUniform.__init__ (from tensorflow.python.ops.init_ops) with dtype is deprecated and will be removed in a future version.\n",
      "Instructions for updating:\n",
      "Call initializer instance with the dtype argument instead of passing it to the constructor\n",
      "W0817 19:02:50.684252 139700294604672 deprecation.py:506] From /usr/local/lib/python3.6/dist-packages/tensorflow/python/ops/init_ops.py:1251: calling VarianceScaling.__init__ (from tensorflow.python.ops.init_ops) with dtype is deprecated and will be removed in a future version.\n",
      "Instructions for updating:\n",
      "Call initializer instance with the dtype argument instead of passing it to the constructor\n",
      "W0817 19:02:50.785155 139700294604672 deprecation.py:323] From /usr/local/lib/python3.6/dist-packages/tensorflow/python/ops/nn_impl.py:180: add_dispatch_support.<locals>.wrapper (from tensorflow.python.ops.array_ops) is deprecated and will be removed in a future version.\n",
      "Instructions for updating:\n",
      "Use tf.where in 2.0, which has the same broadcast rule as np.where\n"
     ]
    }
   ],
   "source": [
    "model = tf.keras.Sequential([\n",
    "    tf.keras.layers.Embedding(vocab_size, embedding_dim, input_length=max_length),\n",
    "    tf.keras.layers.GlobalAveragePooling1D(),\n",
    "    tf.keras.layers.Dense(24, activation='relu'),\n",
    "    tf.keras.layers.Dense(1, activation='sigmoid')\n",
    "])\n",
    "\n",
    "model.compile(loss='binary_crossentropy',optimizer='adam',metrics=['accuracy'])"
   ]
  },
  {
   "cell_type": "code",
   "execution_count": 8,
   "metadata": {
    "colab": {
     "base_uri": "https://localhost:8080/",
     "height": 286
    },
    "colab_type": "code",
    "id": "9qRiw4-J7u3l",
    "outputId": "bf9070e4-2bf1-49e4-e561-d2bf346b240f"
   },
   "outputs": [
    {
     "name": "stdout",
     "output_type": "stream",
     "text": [
      "Model: \"sequential\"\n",
      "_________________________________________________________________\n",
      "Layer (type)                 Output Shape              Param #   \n",
      "=================================================================\n",
      "embedding (Embedding)        (None, 16, 32)            32000     \n",
      "_________________________________________________________________\n",
      "global_average_pooling1d (Gl (None, 32)                0         \n",
      "_________________________________________________________________\n",
      "dense (Dense)                (None, 24)                792       \n",
      "_________________________________________________________________\n",
      "dense_1 (Dense)              (None, 1)                 25        \n",
      "=================================================================\n",
      "Total params: 32,817\n",
      "Trainable params: 32,817\n",
      "Non-trainable params: 0\n",
      "_________________________________________________________________\n"
     ]
    }
   ],
   "source": [
    "model.summary()"
   ]
  },
  {
   "cell_type": "code",
   "execution_count": 9,
   "metadata": {
    "colab": {
     "base_uri": "https://localhost:8080/",
     "height": 1000
    },
    "colab_type": "code",
    "id": "ewsxp1PL70Aa",
    "outputId": "f9bc876f-d10b-453b-e1d8-e5c425345fe7"
   },
   "outputs": [
    {
     "name": "stdout",
     "output_type": "stream",
     "text": [
      "Train on 20000 samples, validate on 6709 samples\n",
      "Epoch 1/30\n",
      "20000/20000 [==============================] - 3s 168us/sample - loss: 0.5101 - acc: 0.7440 - val_loss: 0.4093 - val_acc: 0.8173\n",
      "Epoch 2/30\n",
      "20000/20000 [==============================] - 3s 149us/sample - loss: 0.3785 - acc: 0.8286 - val_loss: 0.3995 - val_acc: 0.8129\n",
      "Epoch 3/30\n",
      "20000/20000 [==============================] - 3s 150us/sample - loss: 0.3639 - acc: 0.8353 - val_loss: 0.4047 - val_acc: 0.8071\n",
      "Epoch 4/30\n",
      "20000/20000 [==============================] - 3s 151us/sample - loss: 0.3602 - acc: 0.8371 - val_loss: 0.4178 - val_acc: 0.8044\n",
      "Epoch 5/30\n",
      "20000/20000 [==============================] - 3s 151us/sample - loss: 0.3586 - acc: 0.8388 - val_loss: 0.4051 - val_acc: 0.8097\n",
      "Epoch 6/30\n",
      "20000/20000 [==============================] - 3s 150us/sample - loss: 0.3557 - acc: 0.8370 - val_loss: 0.4041 - val_acc: 0.8129\n",
      "Epoch 7/30\n",
      "20000/20000 [==============================] - 3s 147us/sample - loss: 0.3544 - acc: 0.8400 - val_loss: 0.4053 - val_acc: 0.8141\n",
      "Epoch 8/30\n",
      "20000/20000 [==============================] - 3s 153us/sample - loss: 0.3541 - acc: 0.8383 - val_loss: 0.4062 - val_acc: 0.8114\n",
      "Epoch 9/30\n",
      "20000/20000 [==============================] - 3s 150us/sample - loss: 0.3529 - acc: 0.8395 - val_loss: 0.4045 - val_acc: 0.8106\n",
      "Epoch 10/30\n",
      "20000/20000 [==============================] - 3s 151us/sample - loss: 0.3521 - acc: 0.8401 - val_loss: 0.4113 - val_acc: 0.8049\n",
      "Epoch 11/30\n",
      "20000/20000 [==============================] - 3s 151us/sample - loss: 0.3513 - acc: 0.8386 - val_loss: 0.4049 - val_acc: 0.8144\n",
      "Epoch 12/30\n",
      "20000/20000 [==============================] - 3s 150us/sample - loss: 0.3501 - acc: 0.8396 - val_loss: 0.4045 - val_acc: 0.8125\n",
      "Epoch 13/30\n",
      "20000/20000 [==============================] - 3s 149us/sample - loss: 0.3487 - acc: 0.8408 - val_loss: 0.4050 - val_acc: 0.8143\n",
      "Epoch 14/30\n",
      "20000/20000 [==============================] - 3s 150us/sample - loss: 0.3469 - acc: 0.8415 - val_loss: 0.4058 - val_acc: 0.8132\n",
      "Epoch 15/30\n",
      "20000/20000 [==============================] - 3s 149us/sample - loss: 0.3443 - acc: 0.8434 - val_loss: 0.4011 - val_acc: 0.8146\n",
      "Epoch 16/30\n",
      "20000/20000 [==============================] - 3s 149us/sample - loss: 0.3413 - acc: 0.8430 - val_loss: 0.4050 - val_acc: 0.8168\n",
      "Epoch 17/30\n",
      "20000/20000 [==============================] - 3s 149us/sample - loss: 0.3384 - acc: 0.8447 - val_loss: 0.4012 - val_acc: 0.8195\n",
      "Epoch 18/30\n",
      "20000/20000 [==============================] - 3s 150us/sample - loss: 0.3353 - acc: 0.8474 - val_loss: 0.3956 - val_acc: 0.8183\n",
      "Epoch 19/30\n",
      "20000/20000 [==============================] - 3s 148us/sample - loss: 0.3312 - acc: 0.8496 - val_loss: 0.3937 - val_acc: 0.8216\n",
      "Epoch 20/30\n",
      "20000/20000 [==============================] - 3s 148us/sample - loss: 0.3285 - acc: 0.8516 - val_loss: 0.3949 - val_acc: 0.8204\n",
      "Epoch 21/30\n",
      "20000/20000 [==============================] - 3s 150us/sample - loss: 0.3255 - acc: 0.8522 - val_loss: 0.3959 - val_acc: 0.8219\n",
      "Epoch 22/30\n",
      "20000/20000 [==============================] - 3s 151us/sample - loss: 0.3225 - acc: 0.8572 - val_loss: 0.3946 - val_acc: 0.8222\n",
      "Epoch 23/30\n",
      "20000/20000 [==============================] - 3s 149us/sample - loss: 0.3196 - acc: 0.8571 - val_loss: 0.3942 - val_acc: 0.8213\n",
      "Epoch 24/30\n",
      "20000/20000 [==============================] - 3s 148us/sample - loss: 0.3175 - acc: 0.8583 - val_loss: 0.3961 - val_acc: 0.8202\n",
      "Epoch 25/30\n",
      "20000/20000 [==============================] - 3s 151us/sample - loss: 0.3142 - acc: 0.8600 - val_loss: 0.3979 - val_acc: 0.8214\n",
      "Epoch 26/30\n",
      "20000/20000 [==============================] - 3s 149us/sample - loss: 0.3110 - acc: 0.8626 - val_loss: 0.3998 - val_acc: 0.8186\n",
      "Epoch 27/30\n",
      "20000/20000 [==============================] - 3s 147us/sample - loss: 0.3082 - acc: 0.8621 - val_loss: 0.4020 - val_acc: 0.8214\n",
      "Epoch 28/30\n",
      "20000/20000 [==============================] - 3s 148us/sample - loss: 0.3056 - acc: 0.8658 - val_loss: 0.4018 - val_acc: 0.8162\n",
      "Epoch 29/30\n",
      "20000/20000 [==============================] - 3s 148us/sample - loss: 0.3023 - acc: 0.8661 - val_loss: 0.4034 - val_acc: 0.8199\n",
      "Epoch 30/30\n",
      "20000/20000 [==============================] - 3s 148us/sample - loss: 0.2994 - acc: 0.8680 - val_loss: 0.4035 - val_acc: 0.8195\n"
     ]
    }
   ],
   "source": [
    "num_epochs = 30\n",
    "history = model.fit(training_padded, \n",
    "                    training_labels, \n",
    "                    epochs=num_epochs, \n",
    "                    validation_data=(testing_padded, testing_labels))"
   ]
  },
  {
   "cell_type": "code",
   "execution_count": 10,
   "metadata": {
    "colab": {
     "base_uri": "https://localhost:8080/",
     "height": 550
    },
    "colab_type": "code",
    "id": "BuIYBZWn8C8o",
    "outputId": "cecfcedc-ab7b-495f-e055-52ed2e3b64f9"
   },
   "outputs": [
    {
     "data": {
      "image/png": "[encoded data removed]",
      "text/plain": [
       "<Figure size 432x288 with 1 Axes>"
      ]
     },
     "metadata": {
      "tags": []
     },
     "output_type": "display_data"
    },
    {
     "data": {
      "image/png": "[encoded data removed]",
      "text/plain": [
       "<Figure size 432x288 with 1 Axes>"
      ]
     },
     "metadata": {
      "tags": []
     },
     "output_type": "display_data"
    }
   ],
   "source": [
    "import matplotlib.pyplot as plt\n",
    "\n",
    "\n",
    "def plot_graphs(history, string):\n",
    "  plt.plot(history.history[string])\n",
    "  plt.plot(history.history['val_'+string])\n",
    "  plt.xlabel(\"Epochs\")\n",
    "  plt.ylabel(string)\n",
    "  plt.legend([string, 'val_'+string])\n",
    "  plt.show()\n",
    "  \n",
    "plot_graphs(history, \"acc\")\n",
    "plot_graphs(history, \"loss\")"
   ]
  },
  {
   "cell_type": "code",
   "execution_count": 11,
   "metadata": {
    "colab": {
     "base_uri": "https://localhost:8080/",
     "height": 67
    },
    "colab_type": "code",
    "id": "rFRody-L8b1r",
    "outputId": "0e5f279d-7acd-4ca8-e73f-39278ffa2b73"
   },
   "outputs": [
    {
     "name": "stdout",
     "output_type": "stream",
     "text": [
      "former <OOV> store <OOV> <OOV> over secret <OOV> <OOV> for <OOV> <OOV> ? ? ? ?\n",
      "mom starting to fear son's web series closest thing she will have to grandchild\n",
      "1\n"
     ]
    }
   ],
   "source": [
    "reverse_word_index = dict([(value, key) for (key, value) in word_index.items()])\n",
    "\n",
    "def decode_sentence(text):\n",
    "    return ' '.join([reverse_word_index.get(i, '?') for i in text])\n",
    "\n",
    "print(decode_sentence(training_padded[0]))\n",
    "print(training_sentences[2])\n",
    "print(labels[2])"
   ]
  },
  {
   "cell_type": "code",
   "execution_count": 12,
   "metadata": {
    "colab": {
     "base_uri": "https://localhost:8080/",
     "height": 34
    },
    "colab_type": "code",
    "id": "yjuAXTje93Do",
    "outputId": "30ee8d89-ec42-48eb-f436-21fc26e05622"
   },
   "outputs": [
    {
     "name": "stdout",
     "output_type": "stream",
     "text": [
      "(1000, 32)\n"
     ]
    }
   ],
   "source": [
    "e = model.layers[0]\n",
    "weights = e.get_weights()[0]\n",
    "\n",
    "print(weights.shape) # shape: (vocab_size, embedding_dim)"
   ]
  },
  {
   "cell_type": "code",
   "execution_count": 0,
   "metadata": {
    "colab": {},
    "colab_type": "code",
    "id": "Xvec5yLD96dj"
   },
   "outputs": [],
   "source": [
    "import io\n",
    "\n",
    "out_v = io.open('vecs.tsv', 'w', encoding='utf-8')\n",
    "out_m = io.open('meta.tsv', 'w', encoding='utf-8')\n",
    "for word_num in range(1, vocab_size):\n",
    "  word = reverse_word_index[word_num]\n",
    "  embeddings = weights[word_num]\n",
    "  out_m.write(word + \"\\n\")\n",
    "  out_v.write('\\t'.join([str(x) for x in embeddings]) + \"\\n\")\n",
    "out_v.close()\n",
    "out_m.close()"
   ]
  },
  {
   "cell_type": "code",
   "execution_count": 14,
   "metadata": {
    "colab": {
     "base_uri": "https://localhost:8080/",
     "height": 50
    },
    "colab_type": "code",
    "id": "dZ1m9I4099jd",
    "outputId": "15c936da-9224-4fd3-d1e6-4c0fe9579133"
   },
   "outputs": [
    {
     "name": "stdout",
     "output_type": "stream",
     "text": [
      "[[0.34193525]\n",
      " [0.61116207]]\n"
     ]
    }
   ],
   "source": [
    "sentence = [\"granny starting to fear spiders in the garden might be real\", \n",
    "            \"game of thrones season finale showing this sunday night\"]\n",
    "\n",
    "sequences = tokenizer.texts_to_sequences(sentence)\n",
    "\n",
    "padded = pad_sequences(sequences, maxlen=max_length, padding=padding_type, truncating=trunc_type)\n",
    "\n",
    "print(model.predict(padded))"
   ]
  },
  {
   "cell_type": "code",
   "execution_count": 0,
   "metadata": {
    "colab": {},
    "colab_type": "code",
    "id": "9n8PcqZL-kHo"
   },
   "outputs": [],
   "source": [
    "try:\n",
    "  from google.colab import files\n",
    "except ImportError:\n",
    "  pass\n",
    "else:\n",
    "  files.download('vecs.tsv')\n",
    "  files.download('meta.tsv')"
   ]
  }
 ],
 "metadata": {
  "accelerator": "GPU",
  "colab": {
   "name": "Week 2 - Lesson 2.ipynb",
   "provenance": [],
   "version": "0.3.2"
  },
  "kernelspec": {
   "display_name": "Python 3",
   "language": "python",
   "name": "python3"
  },
  "language_info": {
   "codemirror_mode": {
    "name": "ipython",
    "version": 3
   },
   "file_extension": ".py",
   "mimetype": "text/x-python",
   "name": "python",
   "nbconvert_exporter": "python",
   "pygments_lexer": "ipython3",
   "version": "3.6.8"
  }
 },
 "nbformat": 4,
 "nbformat_minor": 1
}
